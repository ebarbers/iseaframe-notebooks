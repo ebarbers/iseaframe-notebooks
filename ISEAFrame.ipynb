{
  "nbformat": 4,
  "nbformat_minor": 0,
  "metadata": {
    "colab": {
      "name": "ISEAFrame.ipynb",
      "provenance": [],
      "collapsed_sections": []
    },
    "kernelspec": {
      "name": "python3",
      "display_name": "Python 3"
    }
  },
  "cells": [
    {
      "cell_type": "markdown",
      "metadata": {
        "id": "aMnJRELQBild",
        "colab_type": "text"
      },
      "source": [
        "<h1>ISEAFrame example</h1>\n",
        "\n",
        "This notebook is a basic example of how to use the ISEAFrame executables in Google Colab.\n",
        "\n",
        "First we have to get the simulation binaries and an XML file with a battery model from Github:"
      ]
    },
    {
      "cell_type": "code",
      "metadata": {
        "id": "5hYq6YxMnb4x",
        "colab_type": "code",
        "colab": {}
      },
      "source": [
        "%%script bash\n",
        "wget -q https://github.com/ebarbers/iseaframe-notebooks/raw/master/iseaframe.zip -O iseaframe.zip\n",
        "wget -q https://github.com/ebarbers/iseaframe-notebooks/raw/master/i3Cell.xml -O i3Cell.xml\n",
        "unzip -o iseaframe.zip\n",
        "rm iseaframe.zip"
      ],
      "execution_count": null,
      "outputs": []
    },
    {
      "cell_type": "markdown",
      "metadata": {
        "id": "Ulvi6Zc9DZTR",
        "colab_type": "text"
      },
      "source": [
        "To run the simulation, we need a current profile.\n",
        "Positive current means that the battery is charged, negative current means that the battery is discharged.\n",
        "The current stays constant until a new value is specified in the profile.\n",
        "This means that we have to prepare the values a bit before plotting them to prevent pyplot from interpolating between them."
      ]
    },
    {
      "cell_type": "code",
      "metadata": {
        "id": "3MivhgKLq5m5",
        "colab_type": "code",
        "colab": {}
      },
      "source": [
        "import matplotlib.pyplot as plt\n",
        "\n",
        "time_values =    [ 0.0,  10.0, 20.0, 50.0]\n",
        "current_values = [50.0, -80.0, 10.0, 10.0]\n",
        "\n",
        "plotted_time_values = [None] * (2 * len(time_values) - 1)\n",
        "plotted_time_values[::2] = time_values\n",
        "plotted_time_values[1::2] = time_values[1:]\n",
        "\n",
        "plotted_current_values = [None] * len(plotted_time_values)\n",
        "plotted_current_values[::2] = current_values\n",
        "plotted_current_values[1::2] = current_values[:-1]\n",
        "\n",
        "plt.plot(plotted_time_values, plotted_current_values)\n",
        "plt.xlabel(\"time [s]\")\n",
        "plt.ylabel(\"current [A]\")\n",
        "plt.show()"
      ],
      "execution_count": null,
      "outputs": []
    },
    {
      "cell_type": "markdown",
      "metadata": {
        "id": "9mP52fRMDcsW",
        "colab_type": "text"
      },
      "source": [
        "To use the current profile, we have to write it to a file in CSV format."
      ]
    },
    {
      "cell_type": "code",
      "metadata": {
        "id": "rmx-cbka1M6e",
        "colab_type": "code",
        "colab": {}
      },
      "source": [
        "current_profile = zip(time_values, current_values)\n",
        "with open('current.csv', 'w') as current_file:\n",
        "  for (time, current) in current_profile:\n",
        "    current_file.write(\"{}, {}\\n\".format(time, current))"
      ],
      "execution_count": null,
      "outputs": []
    },
    {
      "cell_type": "markdown",
      "metadata": {
        "id": "SWfBhllxDlnU",
        "colab_type": "text"
      },
      "source": [
        "Now we can run the simulation. This will take a few seconds."
      ]
    },
    {
      "cell_type": "code",
      "metadata": {
        "id": "Kpd0sgjh5GcF",
        "colab_type": "code",
        "colab": {}
      },
      "source": [
        "%%script bash\n",
        "mkdir -p simulation\n",
        "cd simulation\n",
        "../iseaframe/thermalElectricalSimulation -q ../i3Cell.xml ../current.csv"
      ],
      "execution_count": null,
      "outputs": []
    },
    {
      "cell_type": "markdown",
      "metadata": {
        "id": "00fuAoi-Dqub",
        "colab_type": "text"
      },
      "source": [
        "The simulation results are written to a matlab file. We can read them into python arrays and plot the results."
      ]
    },
    {
      "cell_type": "code",
      "metadata": {
        "id": "VqWgF_ib5V8N",
        "colab_type": "code",
        "colab": {}
      },
      "source": [
        "import scipy.io\n",
        "\n",
        "mat_contents = scipy.io.loadmat('simulation/SampleOutput_0.mat')\n",
        "time = mat_contents['diga']['daten'][0][0]['Programmdauer'][0][0][0]\n",
        "current = mat_contents['diga']['daten'][0][0]['Strom'][0][0][0]\n",
        "voltage = mat_contents['diga']['daten'][0][0]['Spannung'][0][0][0]\n",
        "soc = mat_contents['diga']['daten'][0][0]['SOCVec'][0][0][0]\n",
        "\n",
        "plt.figure()\n",
        "plt.plot(time, current, 'k')\n",
        "plt.xlabel(\"time [s]\")\n",
        "plt.ylabel(\"current [A]\")\n",
        "\n",
        "plt.figure()\n",
        "plt.plot(time, voltage, 'r')\n",
        "plt.xlabel(\"time [s]\")\n",
        "plt.ylabel(\"voltage [V]\")\n",
        "\n",
        "plt.figure()\n",
        "plt.plot(time, soc, 'b')\n",
        "plt.xlabel(\"time [s]\")\n",
        "plt.ylabel(\"SOC [%]\")"
      ],
      "execution_count": null,
      "outputs": []
    }
  ]
}