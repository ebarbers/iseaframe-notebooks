{
  "nbformat": 4,
  "nbformat_minor": 0,
  "metadata": {
    "colab": {
      "name": "ISEAFrame.ipynb",
      "provenance": [],
      "collapsed_sections": []
    },
    "kernelspec": {
      "name": "python3",
      "display_name": "Python 3"
    }
  },
  "cells": [
    {
      "cell_type": "markdown",
      "metadata": {
        "id": "aMnJRELQBild",
        "colab_type": "text"
      },
      "source": [
        "<h1>ISEAFrame example</h1>\n",
        "\n",
        "This notebook is a basic example of how to use the ISEAFrame executables in Google Colab.\n",
        "\n",
        "First we have to get the simulation binaries and an XML with a battery model from Github:"
      ]
    },
    {
      "cell_type": "code",
      "metadata": {
        "id": "5hYq6YxMnb4x",
        "colab_type": "code",
        "colab": {
          "base_uri": "https://localhost:8080/",
          "height": 191
        },
        "outputId": "06f671d0-78a4-4a69-ecfa-6579c6429e3c"
      },
      "source": [
        "%%script bash\n",
        "wget -q https://github.com/ebarbers/iseaframe-notebooks/raw/master/iseaframe.zip -O iseaframe.zip\n",
        "wget -q https://github.com/ebarbers/iseaframe-notebooks/raw/master/i3Cell.xml -O i3Cell.xml\n",
        "unzip -o iseaframe.zip\n",
        "rm iseaframe.zip"
      ],
      "execution_count": 9,
      "outputs": [
        {
          "output_type": "stream",
          "text": [
            "Archive:  iseaframe.zip\n",
            "  inflating: iseaframe/libm.so.6     \n",
            "  inflating: iseaframe/agingSimulation  \n",
            "  inflating: iseaframe/thermalElectricalSimulation  \n",
            "  inflating: iseaframe/libhdf5.so.200  \n",
            "  inflating: iseaframe/electricalSimulation  \n",
            "  inflating: iseaframe/libstdc++.so.6  \n",
            "  inflating: iseaframe/libmatio.so.10  \n",
            "  inflating: iseaframe/thermalSimulation  \n"
          ],
          "name": "stdout"
        }
      ]
    },
    {
      "cell_type": "markdown",
      "metadata": {
        "id": "Ulvi6Zc9DZTR",
        "colab_type": "text"
      },
      "source": [
        "To run the simulation, we need a current profile.\n",
        "Positive current means that the battery is charged, negative current means that the battery is discharged.\n",
        "The current stays constant until a new value is specified in the profile.\n",
        "This means that we have to prepare the values a bit before plotting them to prevent pyplot from interpolating between them."
      ]
    },
    {
      "cell_type": "code",
      "metadata": {
        "id": "3MivhgKLq5m5",
        "colab_type": "code",
        "colab": {
          "base_uri": "https://localhost:8080/",
          "height": 279
        },
        "outputId": "688659be-ff59-465d-d747-6daedb45f49a"
      },
      "source": [
        "import matplotlib.pyplot as plt\n",
        "\n",
        "time_values =    [ 0.0,  10.0, 20.0, 50.0]\n",
        "current_values = [50.0, -80.0, 10.0, 10.0]\n",
        "\n",
        "plotted_time_values = [None] * (2 * len(time_values) - 1)\n",
        "plotted_time_values[::2] = time_values\n",
        "plotted_time_values[1::2] = time_values[1:]\n",
        "\n",
        "plotted_current_values = [None] * len(plotted_time_values)\n",
        "plotted_current_values[::2] = current_values\n",
        "plotted_current_values[1::2] = current_values[:-1]\n",
        "\n",
        "plt.plot(plotted_time_values, plotted_current_values)\n",
        "plt.xlabel(\"time [s]\")\n",
        "plt.ylabel(\"current [A]\")\n",
        "plt.show()"
      ],
      "execution_count": 65,
      "outputs": [
        {
          "output_type": "display_data",
          "data": {
            "image/png": "[encoded data removed]",
            "text/plain": [
              "<Figure size 432x288 with 1 Axes>"
            ]
          },
          "metadata": {
            "tags": [],
            "needs_background": "light"
          }
        }
      ]
    },
    {
      "cell_type": "markdown",
      "metadata": {
        "id": "9mP52fRMDcsW",
        "colab_type": "text"
      },
      "source": [
        "To use the current profile, we have to write it to a file in CSV format."
      ]
    },
    {
      "cell_type": "code",
      "metadata": {
        "id": "rmx-cbka1M6e",
        "colab_type": "code",
        "colab": {}
      },
      "source": [
        "current_profile = zip(time_values, current_values)\n",
        "with open('current.csv', 'w') as current_file:\n",
        "  for (time, current) in current_profile:\n",
        "    current_file.write(\"{}, {}\\n\".format(time, current))"
      ],
      "execution_count": 66,
      "outputs": []
    },
    {
      "cell_type": "markdown",
      "metadata": {
        "id": "SWfBhllxDlnU",
        "colab_type": "text"
      },
      "source": [
        "Now we can run the simulation. This will take a few seconds."
      ]
    },
    {
      "cell_type": "code",
      "metadata": {
        "id": "Kpd0sgjh5GcF",
        "colab_type": "code",
        "colab": {
          "base_uri": "https://localhost:8080/",
          "height": 36
        },
        "outputId": "e3a0fb3b-46ce-4d04-eb28-b28b197b8ecb"
      },
      "source": [
        "%%script bash\n",
        "mkdir -p simulation\n",
        "cd simulation\n",
        "../iseaframe/thermalElectricalSimulation -q ../i3Cell.xml ../current.csv"
      ],
      "execution_count": 69,
      "outputs": [
        {
          "output_type": "stream",
          "text": [
            "Run was succesful\n"
          ],
          "name": "stdout"
        }
      ]
    },
    {
      "cell_type": "markdown",
      "metadata": {
        "id": "00fuAoi-Dqub",
        "colab_type": "text"
      },
      "source": [
        "The simulation results are written to a matlab file. We can read them into python arrays and plot the results."
      ]
    },
    {
      "cell_type": "code",
      "metadata": {
        "id": "VqWgF_ib5V8N",
        "colab_type": "code",
        "colab": {
          "base_uri": "https://localhost:8080/",
          "height": 822
        },
        "outputId": "550787a6-36fa-4df5-9422-6e6771b3501e"
      },
      "source": [
        "import scipy.io\n",
        "\n",
        "mat_contents = scipy.io.loadmat('simulation/SampleOutput_0.mat')\n",
        "time = mat_contents['diga']['daten'][0][0]['Programmdauer'][0][0][0]\n",
        "current = mat_contents['diga']['daten'][0][0]['Strom'][0][0][0]\n",
        "voltage = mat_contents['diga']['daten'][0][0]['Spannung'][0][0][0]\n",
        "soc = mat_contents['diga']['daten'][0][0]['SOCVec'][0][0][0]\n",
        "\n",
        "plt.figure()\n",
        "plt.plot(time, current, 'k')\n",
        "plt.xlabel(\"time [s]\")\n",
        "plt.ylabel(\"current [A]\")\n",
        "\n",
        "plt.figure()\n",
        "plt.plot(time, voltage, 'r')\n",
        "plt.xlabel(\"time [s]\")\n",
        "plt.ylabel(\"voltage [V]\")\n",
        "\n",
        "plt.figure()\n",
        "plt.plot(time, soc, 'b')\n",
        "plt.xlabel(\"time [s]\")\n",
        "plt.ylabel(\"SOC [%]\")"
      ],
      "execution_count": 70,
      "outputs": [
        {
          "output_type": "execute_result",
          "data": {
            "text/plain": [
              "Text(0, 0.5, 'SOC [%]')"
            ]
          },
          "metadata": {
            "tags": []
          },
          "execution_count": 70
        },
        {
          "output_type": "display_data",
          "data": {
            "image/png": "[encoded data removed]",
            "text/plain": [
              "<Figure size 432x288 with 1 Axes>"
            ]
          },
          "metadata": {
            "tags": [],
            "needs_background": "light"
          }
        },
        {
          "output_type": "display_data",
          "data": {
            "image/png": "[encoded data removed]",
            "text/plain": [
              "<Figure size 432x288 with 1 Axes>"
            ]
          },
          "metadata": {
            "tags": [],
            "needs_background": "light"
          }
        },
        {
          "output_type": "display_data",
          "data": {
            "image/png": "[encoded data removed]",
            "text/plain": [
              "<Figure size 432x288 with 1 Axes>"
            ]
          },
          "metadata": {
            "tags": [],
            "needs_background": "light"
          }
        }
      ]
    }
  ]
}